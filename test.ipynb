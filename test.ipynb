{
 "cells": [
  {
   "cell_type": "code",
   "execution_count": null,
   "metadata": {},
   "outputs": [],
   "source": [
    "import pandas as pd\n",
    "\n",
    "# Login using e.g. `huggingface-cli login` to access this dataset\n",
    "df = pd.read_parquet(\"hf://datasets/nmixx-fin/NMIXX_kor_fin_news_STS/data/test-00000-of-00001.parquet\")"
   ]
  },
  {
   "cell_type": "code",
   "execution_count": 2,
   "metadata": {},
   "outputs": [],
   "source": [
    "df.to_csv(\"NMIXX_kor_Fin_news.csv\", index=False)"
   ]
  },
  {
   "cell_type": "code",
   "execution_count": 3,
   "metadata": {},
   "outputs": [],
   "source": [
    "import pandas as pd\n",
    "\n",
    "df2 = pd.read_parquet(\"hf://datasets/FinanceMTEB/FinSTS/data/test-00000-of-00001-6c91fa192c582d42.parquet\")"
   ]
  },
  {
   "cell_type": "code",
   "execution_count": 4,
   "metadata": {},
   "outputs": [],
   "source": [
    "df2.to_csv(\"FinSTS.csv\", index=False)"
   ]
  },
  {
   "cell_type": "markdown",
   "metadata": {},
   "source": [
    "## MINDS"
   ]
  },
  {
   "cell_type": "code",
   "execution_count": null,
   "metadata": {},
   "outputs": [],
   "source": [
    "import pandas as pd\n",
    "\n",
    "df = pd.read_parquet(\"hf://datasets/nmixx-fin/twice_kr_minds14_clustering/data/test-00000-of-00001.parquet\")"
   ]
  },
  {
   "cell_type": "code",
   "execution_count": 2,
   "metadata": {},
   "outputs": [],
   "source": [
    "df.to_csv(\"MINDS14.csv\", index=False)\n"
   ]
  },
  {
   "cell_type": "code",
   "execution_count": 3,
   "metadata": {},
   "outputs": [],
   "source": [
    "import pandas as pd\n",
    "\n",
    "df2 = pd.read_parquet(\"hf://datasets/nmixx-fin/twice_dart_company2industry_clustering/data/test-00000-of-00001.parquet\")"
   ]
  },
  {
   "cell_type": "code",
   "execution_count": 4,
   "metadata": {},
   "outputs": [],
   "source": [
    "df2.to_csv(\"DartCompany2Industry.csv\", index=False)\n"
   ]
  },
  {
   "cell_type": "markdown",
   "metadata": {},
   "source": [
    "## Minds"
   ]
  },
  {
   "cell_type": "code",
   "execution_count": 1,
   "metadata": {},
   "outputs": [
    {
     "name": "stderr",
     "output_type": "stream",
     "text": [
      "c:\\Users\\hwyew\\miniconda3\\envs\\finance\\Lib\\site-packages\\tqdm\\auto.py:21: TqdmWarning: IProgress not found. Please update jupyter and ipywidgets. See https://ipywidgets.readthedocs.io/en/stable/user_install.html\n",
      "  from .autonotebook import tqdm as notebook_tqdm\n"
     ]
    }
   ],
   "source": [
    "import pandas as pd\n",
    "\n",
    "df = pd.read_parquet(\"hf://datasets/nmixx-fin/twice_kr_minds14_clustering/data/test-00000-of-00001.parquet\")"
   ]
  },
  {
   "cell_type": "code",
   "execution_count": 4,
   "metadata": {},
   "outputs": [
    {
     "name": "stdout",
     "output_type": "stream",
     "text": [
      "<class 'numpy.ndarray'>\n",
      "1000 1000\n",
      "<class 'numpy.ndarray'>\n",
      "1000 1000\n",
      "<class 'numpy.ndarray'>\n",
      "1000 1000\n",
      "<class 'numpy.ndarray'>\n",
      "1000 1000\n",
      "<class 'numpy.ndarray'>\n",
      "1000 1000\n",
      "<class 'numpy.ndarray'>\n",
      "1000 1000\n",
      "<class 'numpy.ndarray'>\n",
      "1000 1000\n",
      "<class 'numpy.ndarray'>\n",
      "1000 1000\n",
      "<class 'numpy.ndarray'>\n",
      "1000 1000\n",
      "<class 'numpy.ndarray'>\n",
      "1000 1000\n",
      "<class 'numpy.ndarray'>\n",
      "1000 1000\n",
      "<class 'numpy.ndarray'>\n",
      "1000 1000\n",
      "<class 'numpy.ndarray'>\n",
      "1000 1000\n",
      "<class 'numpy.ndarray'>\n",
      "396 396\n"
     ]
    }
   ],
   "source": [
    "for i in range(len(df)):\n",
    "    print(type(df['sentences'][i]))\n",
    "    print(len(df['sentences'][i]), len(df['labels'][i]))\n"
   ]
  },
  {
   "cell_type": "code",
   "execution_count": null,
   "metadata": {},
   "outputs": [],
   "source": []
  }
 ],
 "metadata": {
  "kernelspec": {
   "display_name": "finance",
   "language": "python",
   "name": "python3"
  },
  "language_info": {
   "codemirror_mode": {
    "name": "ipython",
    "version": 3
   },
   "file_extension": ".py",
   "mimetype": "text/x-python",
   "name": "python",
   "nbconvert_exporter": "python",
   "pygments_lexer": "ipython3",
   "version": "3.11.11"
  }
 },
 "nbformat": 4,
 "nbformat_minor": 2
}
