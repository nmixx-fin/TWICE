{
 "cells": [
  {
   "cell_type": "code",
   "execution_count": 3,
   "metadata": {},
   "outputs": [],
   "source": [
    "import pandas as pd\n",
    "\n",
    "# CSV 불러오기\n",
    "df = pd.read_csv(\"bok_dict_retrieval_default.csv\")\n",
    "\n",
    "# 컬럼 이름 변경\n",
    "df = df.rename(columns={\n",
    "    \"query_id\": \"query-id\",\n",
    "    \"corpus_id\": \"corpus-id\"\n",
    "})\n",
    "\n",
    "# 변경된 CSV 저장 (덮어쓰기 or 다른 이름으로 저장 가능)\n",
    "df.to_csv(\"bok_dict_retrieval_default.csv\", index=False)"
   ]
  },
  {
   "cell_type": "code",
   "execution_count": 4,
   "metadata": {},
   "outputs": [
    {
     "name": "stderr",
     "output_type": "stream",
     "text": [
      "Generating train split: 1000 examples [00:00, 334394.00 examples/s]\n",
      "Creating parquet from Arrow format: 100%|██████████| 1/1 [00:00<00:00, 999.36ba/s]\n",
      "Uploading the dataset shards: 100%|██████████| 1/1 [00:00<00:00,  1.74it/s]\n",
      "No files have been modified since last commit. Skipping to prevent empty commit.\n",
      "Creating parquet from Arrow format: 100%|██████████| 1/1 [00:00<?, ?ba/s]\n",
      "Uploading the dataset shards: 100%|██████████| 1/1 [00:01<00:00,  1.07s/it]\n",
      "Creating parquet from Arrow format: 100%|██████████| 1/1 [00:00<00:00, 1000.07ba/s]\n",
      "Uploading the dataset shards: 100%|██████████| 1/1 [00:00<00:00,  2.17it/s]\n",
      "No files have been modified since last commit. Skipping to prevent empty commit.\n"
     ]
    },
    {
     "data": {
      "text/plain": [
       "CommitInfo(commit_url='https://huggingface.co/datasets/nmixx-fin/twice_bok_dict_retrieval/commit/831601d918911510b1bc7c999aac10e8d66dbdd2', commit_message='Upload dataset', commit_description='', oid='831601d918911510b1bc7c999aac10e8d66dbdd2', pr_url=None, repo_url=RepoUrl('https://huggingface.co/datasets/nmixx-fin/twice_bok_dict_retrieval', endpoint='https://huggingface.co', repo_type='dataset', repo_id='nmixx-fin/twice_bok_dict_retrieval'), pr_revision=None, pr_num=None)"
      ]
     },
     "execution_count": 4,
     "metadata": {},
     "output_type": "execute_result"
    },
    {
     "ename": "",
     "evalue": "",
     "output_type": "error",
     "traceback": [
      "\u001b[1;31m현재 셀 또는 이전 셀에서 코드를 실행하는 동안 Kernel이 충돌했습니다. \n",
      "\u001b[1;31m셀의 코드를 검토하여 가능한 오류 원인을 식별하세요. \n",
      "\u001b[1;31m자세한 내용을 보려면 <a href='https://aka.ms/vscodeJupyterKernelCrash'>여기</a>를 클릭하세요. \n",
      "\u001b[1;31m자세한 내용은 Jupyter <a href='command:jupyter.viewOutput'>로그</a>를 참조하세요."
     ]
    }
   ],
   "source": [
    "from datasets import load_dataset, DatasetDict\n",
    "\n",
    "# 각 config에 해당하는 DatasetDict(train=...) 생성\n",
    "corpus = load_dataset(\"csv\", data_files={\"train\": \"bok_dict_retrieval_corpus.csv\"})\n",
    "default = load_dataset(\"csv\", data_files={\"train\": \"bok_dict_retrieval_default.csv\"})\n",
    "queries = load_dataset(\"csv\", data_files={\"train\": \"bok_dict_retrieval_queries.csv\"})\n",
    "\n",
    "# 각각 push\n",
    "corpus[\"train\"].push_to_hub(\"nmixx-fin/twice_bok_dict_retrieval\", config_name=\"corpus\")\n",
    "default[\"train\"].push_to_hub(\"nmixx-fin/twice_bok_dict_retrieval\", config_name=\"default\")\n",
    "queries[\"train\"].push_to_hub(\"nmixx-fin/twice_bok_dict_retrieval\", config_name=\"queries\")\n"
   ]
  },
  {
   "cell_type": "code",
   "execution_count": null,
   "metadata": {},
   "outputs": [],
   "source": []
  }
 ],
 "metadata": {
  "kernelspec": {
   "display_name": "finance",
   "language": "python",
   "name": "python3"
  },
  "language_info": {
   "codemirror_mode": {
    "name": "ipython",
    "version": 3
   },
   "file_extension": ".py",
   "mimetype": "text/x-python",
   "name": "python",
   "nbconvert_exporter": "python",
   "pygments_lexer": "ipython3",
   "version": "3.11.11"
  }
 },
 "nbformat": 4,
 "nbformat_minor": 2
}
